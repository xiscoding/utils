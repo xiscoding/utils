{
  "nbformat": 4,
  "nbformat_minor": 0,
  "metadata": {
    "colab": {
      "provenance": [],
      "authorship_tag": "ABX9TyOI/VpbjqfECTGYBmIVf6HH",
      "include_colab_link": true
    },
    "kernelspec": {
      "name": "python3",
      "display_name": "Python 3"
    },
    "language_info": {
      "name": "python"
    }
  },
  "cells": [
    {
      "cell_type": "markdown",
      "metadata": {
        "id": "view-in-github",
        "colab_type": "text"
      },
      "source": [
        "<a href=\"https://colab.research.google.com/github/xiscoding/utils/blob/main/GhidraSnippets_HackOvert.ipynb\" target=\"_parent\"><img src=\"https://colab.research.google.com/assets/colab-badge.svg\" alt=\"Open In Colab\"/></a>"
      ]
    },
    {
      "cell_type": "markdown",
      "source": [
        "Source: https://github.com/HackOvert/GhidraSnippets?tab=readme-ov-file#dumping-refined-pcode"
      ],
      "metadata": {
        "id": "XyOlLggW_XNs"
      }
    },
    {
      "cell_type": "markdown",
      "source": [
        "# Working with the Flat APIs\n",
        "As stated in the introduction, the simplest method of using Ghidra's API is via the Flat APIs. As of Ghidra 10.2 this includes FlatProgramAPI, FlatDecompilerAPI, and the most recent FlatDebuggerAPI. The Flat APIs are designed to offer a stable API interface to some of Ghidra's high level functionality. The simplicity and convenience offered by the Flat APIs can be quickly eclipsed by their limited functionality. However, if what you need to do is offered via the Flat APIs, it's highly recommended you use them.\n",
        "\n",
        "## Using the FlatProgramAPI\n",
        "The FlatProgramAPI is a simple interface to Ghidra's program related functionality. This includes functions, data, instructions, etc."
      ],
      "metadata": {
        "id": "4bJkk4u961ts"
      }
    },
    {
      "cell_type": "code",
      "execution_count": null,
      "metadata": {
        "id": "t8Qtluzdxzrs"
      },
      "outputs": [],
      "source": [
        "from ghidra.program.flatapi import FlatProgramAPI\n",
        "\n",
        "state = getState()\n",
        "program = state.getCurrentProgram()\n",
        "fpapi = FlatProgramAPI(program)\n",
        "\n",
        "for x in dir(fpapi): print(x)\n",
        "print(fpapi.currentProgram)\n",
        "print(fpapi.firstFunction)"
      ]
    },
    {
      "cell_type": "markdown",
      "source": [
        "## Using the FlatDecompilerAPI\n",
        "The FlatDecompilerAPI is a simple interface to Ghidra's decompiler and requires an instance of the FlatProgramAPI for initialization in order to do anything useful. In other words, we need a target program to use the decompiler."
      ],
      "metadata": {
        "id": "boi6VOc268qg"
      }
    },
    {
      "cell_type": "code",
      "source": [
        "from ghidra.app.decompiler.flatapi import FlatDecompilerAPI\n",
        "from ghidra.program.flatapi import FlatProgramAPI\n",
        "\n",
        "fpapi = FlatProgramAPI(getState().getCurrentProgram())\n",
        "fdapi = FlatDecompilerAPI(fpapi)\n",
        "\n",
        "for x in dir(fdapi): print(x)\n",
        "\n",
        "main_decomp = fdapi.decompile(fpapi.getFunction('main'))\n",
        "print(main_decomp)\n"
      ],
      "metadata": {
        "id": "ch365I5b6_lT"
      },
      "execution_count": null,
      "outputs": []
    },
    {
      "cell_type": "markdown",
      "source": [
        "## Using the FlatDebuggerAPI\n",
        "The FlatDebuggerAPI is a simple interface to Ghidra's debugger and trace functionality. This is a new feature as of Ghidra 10.2 and yet to be documented in the Ghidra 10.2 API docs. For some extra context about this API, see DemoDebuggerScript.java. As I learn more about this API I'll update this section."
      ],
      "metadata": {
        "id": "NPMC21_Z7B1q"
      }
    },
    {
      "cell_type": "code",
      "source": [
        "from ghidra.debug.flatapi import FlatDebuggerAPI\n",
        "\n",
        "fdapi = FlatDebuggerAPI\n",
        "\n",
        "for x in dir(fdapi): print(x)"
      ],
      "metadata": {
        "id": "ZyWD9_Ze7EZ8"
      },
      "execution_count": null,
      "outputs": []
    },
    {
      "cell_type": "markdown",
      "source": [
        "# Working with Projects\n",
        "A Ghidra Project (class GhidraProject) contains a logical set of program binaries related to a reverse engineering effort. Projects can be shared (collaborative) or non-shared (private). The snippets in this section deal with bulk import and analysis, locating project files on disk, and more.\n",
        "\n",
        "## Get the name and location on disk of the current project\n",
        "If you're looking to automate analysis using headless scripts you'll likley have to deal with project management. This includes adding binaries to existing projects, cleaning up old projects, or perhaps syncing analysis to shared projects."
      ],
      "metadata": {
        "id": "6S_JU3yh7G9O"
      }
    },
    {
      "cell_type": "code",
      "source": [
        "state = getState()\n",
        "project = state.getProject()\n",
        "program = state.getCurrentProgram()\n",
        "locator = project.getProjectData().getProjectLocator()\n",
        "print(\"type(state):           {}\".format(type(state)))\n",
        "print(\"type(project):         {}\".format(type(project)))\n",
        "print(\"type(program):         {}\".format(type(program)))\n",
        "print(\"type(locator):         {}\".format(type(locator)))\n",
        "print(\"Project Name:          {}\".format(locator.getName()))\n",
        "print(\"Files in this project: {}\".format(project.getProjectData().getFileCount()))\n",
        "print(\"Is a remote project:   {}\".format(locator.isTransient()))\n",
        "print(\"Project location:      {}\".format(locator.getLocation()))\n",
        "print(\"Project directory:     {}\".format(locator.getProjectDir()))\n",
        "print(\"Lock file:             {}\".format(locator.getProjectLockFile()))\n",
        "print(\"Marker file:           {}\".format(locator.getMarkerFile()))\n",
        "print(\"Project URL:           {}\".format(locator.getURL()))"
      ],
      "metadata": {
        "id": "vATPVbn27LVE"
      },
      "execution_count": null,
      "outputs": []
    },
    {
      "cell_type": "markdown",
      "source": [
        "## List all programs in the current project\n",
        "A Ghidra project is a logical collection binaries that relate to a specific RE effort. This might be a single executable with multiple shared objects, or multiple executables with numerous third-party libraries, kernel modules, and drivers."
      ],
      "metadata": {
        "id": "PhTRIY2C7Oec"
      }
    },
    {
      "cell_type": "code",
      "source": [
        "state = getState()\n",
        "project = state.getProject()\n",
        "locator = project.getProjectData().getProjectLocator()\n",
        "projectMgr = project.getProjectManager()\n",
        "activeProject = projectMgr.getActiveProject()\n",
        "projectData = activeProject.getProjectData()\n",
        "rootFolder = projectData.getRootFolder()\n",
        "\n",
        "print(\"type(state):           {}\".format(type(state)))\n",
        "print(\"type(project):         {}\".format(type(project)))\n",
        "print(\"type(projectMgr):      {}\".format(type(projectMgr)))\n",
        "print(\"type(activeProject):   {}\".format(type(activeProject)))\n",
        "print(\"type(projectData):     {}\".format(type(projectData)))\n",
        "print(\"type(rootFolder):      {}\".format(type(rootFolder)))\n",
        "\n",
        "projectName = locator.getName()\n",
        "fileCount = projectData.getFileCount()\n",
        "files = rootFolder.getFiles()\n",
        "\n",
        "print(\"The project '{}' has {} files in it:\".format(projectName, fileCount))\n",
        "for file in files:\n",
        "\tprint(\"\\t{}\".format(file))"
      ],
      "metadata": {
        "id": "lKiqNASm7PvJ"
      },
      "execution_count": null,
      "outputs": []
    },
    {
      "cell_type": "markdown",
      "source": [
        "# Working with Programs\n",
        "A Program is a binary component within a Ghidra Project. The snippets in this section deal with gathering information about the Programs within a Project.\n",
        "\n",
        "## List the current program name and location on disk"
      ],
      "metadata": {
        "id": "1Ntax_XE7S7c"
      }
    },
    {
      "cell_type": "code",
      "source": [
        "state = getState()\n",
        "currentProgram = state.getCurrentProgram()\n",
        "name = currentProgram.getName()\n",
        "location = currentProgram.getExecutablePath()\n",
        "print(\"The currently loaded program is: '{}'\".format(name))\n",
        "print(\"Its location on disk is: '{}'\".format(location))"
      ],
      "metadata": {
        "id": "ZacYtXrD7VCl"
      },
      "execution_count": null,
      "outputs": []
    },
    {
      "cell_type": "markdown",
      "source": [
        "## List the name and size of program sections"
      ],
      "metadata": {
        "id": "EyRrlpYR7XQZ"
      }
    },
    {
      "cell_type": "code",
      "source": [
        "blocks = currentProgram.getMemory().getBlocks()\n",
        "for block in blocks:\n",
        "\tprint(\"Name: {}, Size: {}\".format(block.getName(), block.getSize()))"
      ],
      "metadata": {
        "id": "R54gJZDo7a_d"
      },
      "execution_count": null,
      "outputs": []
    },
    {
      "cell_type": "markdown",
      "source": [
        "# Working with Functions\n",
        "A Function is a subroutine within an Program. The snippets in this section deal with gathering information about Functions and modifying them within an Program.\n",
        "\n",
        "## Enumerate all functions printing their name and address\n",
        "There are at least two ways to do this. The output is the same for each method."
      ],
      "metadata": {
        "id": "1P4aLJYS7c6R"
      }
    },
    {
      "cell_type": "code",
      "source": [
        "# Method 1:\n",
        "func = getFirstFunction()\n",
        "while func is not None:\n",
        "    print(\"Function: {} @ 0x{}\".format(func.getName(), func.getEntryPoint()))\n",
        "    func = getFunctionAfter(func)\n",
        "\n",
        "# Method 2:\n",
        "fm = currentProgram.getFunctionManager()\n",
        "funcs = fm.getFunctions(True) # True means 'forward'\n",
        "for func in funcs:\n",
        "    print(\"Function: {} @ 0x{}\".format(func.getName(), func.getEntryPoint()))"
      ],
      "metadata": {
        "id": "ujoqMq077hyH"
      },
      "execution_count": null,
      "outputs": []
    },
    {
      "cell_type": "markdown",
      "source": [
        "## Get a function name by address\n",
        "This snippet will help you correlate addresses with associated function names."
      ],
      "metadata": {
        "id": "SevPqhd87krb"
      }
    },
    {
      "cell_type": "code",
      "source": [
        "# helper function to get a Ghidra Address type\n",
        "def getAddress(offset):\n",
        "    return currentProgram.getAddressFactory().getDefaultAddressSpace().getAddress(offset)\n",
        "\n",
        "# get a FunctionManager reference for the current program\n",
        "functionManager = currentProgram.getFunctionManager()\n",
        "\n",
        "# getFunctionAt() only works with function entryPoint addresses!\n",
        "# returns `None` if address is not the address of the first\n",
        "# instruction in a defined function. Consider using\n",
        "# getFunctionContaining() method instead.\n",
        "addr = getAddress(0x00100690)\n",
        "funcName = functionManager.getFunctionAt(addr).getName()\n",
        "print(funcName)\n",
        "\n",
        "# check if a specific address resides in a function\n",
        "addr = getAddress(0x00100691)\n",
        "print(functionManager.isInFunction(addr))\n",
        "\n",
        "# get the function an address belongs to, returns `None` if the address\n",
        "# is not part of a defined function.\n",
        "addr = getAddress(0x00100691)\n",
        "print(functionManager.getFunctionContaining(addr))"
      ],
      "metadata": {
        "id": "uzq-paFE7nnV"
      },
      "execution_count": null,
      "outputs": []
    },
    {
      "cell_type": "markdown",
      "source": [
        "## Get a function address by name\n",
        "Have a name for a function but want the entry point address for it? This will help you do that. Just remember that two or more functions can share the same name (due to function overloading), so Ghidra will return an array (Python list) you have to consider iterating over."
      ],
      "metadata": {
        "id": "sSGcQGbl7pFs"
      }
    },
    {
      "cell_type": "code",
      "source": [
        "# Note that multiple functions can share the same name, so Ghidra's API\n",
        "# returns a list of `Function` types. Just keep this in mind.\n",
        "name = \"main\"\n",
        "funcs = getGlobalFunctions(name)\n",
        "print(\"Found {} function(s) with the name '{}'\".format(len(funcs), name))\n",
        "for func in funcs:\n",
        "\tprint(\"{} is located at 0x{}\".format(func.getName(), func.getEntryPoint()))"
      ],
      "metadata": {
        "id": "3z3rWgKw7roD"
      },
      "execution_count": null,
      "outputs": []
    },
    {
      "cell_type": "markdown",
      "source": [
        "## Get cross references to a function\n",
        "Ghidra makes it easy to find all cross references to a function using getReferencesTo. To use this, you'll just need the function's entry address which can be acquired using the getEntryPoint method on a function object. Let's take a look at an example where we find all cross references to functions named \"system\"."
      ],
      "metadata": {
        "id": "Xe8369pE7tiI"
      }
    },
    {
      "cell_type": "code",
      "source": [
        "fm = currentProgram.getFunctionManager()\n",
        "funcs = fm.getFunctions(True)\n",
        "for func in funcs:\n",
        "  if func.getName() == \"system\":\n",
        "    print(\"\\nFound 'system' @ 0x{}\".format(func.getEntryPoint()))\n",
        "    entry_point = func.getEntryPoint()\n",
        "    references = getReferencesTo(entry_point)\n",
        "    for xref in references:\n",
        "      print(xref)"
      ],
      "metadata": {
        "id": "yvtaJLt_7vRc"
      },
      "execution_count": null,
      "outputs": []
    },
    {
      "cell_type": "markdown",
      "source": [
        "## Analyzing function call arguments\n",
        "This snippet uses a TARGET_ADDR which should be the address of a call to return the call arguments at that address. Thanks to gipi for suggesting this much cleaner way to obtain function call arguments than previously listed!"
      ],
      "metadata": {
        "id": "nWYLYk6s7yDZ"
      }
    },
    {
      "cell_type": "code",
      "source": [
        "from ghidra.app.decompiler import DecompileOptions\n",
        "from ghidra.app.decompiler import DecompInterface\n",
        "from ghidra.util.task import ConsoleTaskMonitor\n",
        "\n",
        "# # Disassembly shows: 00434f6c    CALL    FUN_00433ff0\n",
        "# # Decompiler shows:  uVar1 = FUN_00433ff0(param_1,param_2,param_3);\n",
        "TARGET_ADDR = toAddr(0x00434f6c)\n",
        "\n",
        "options = DecompileOptions()\n",
        "monitor = ConsoleTaskMonitor()\n",
        "ifc = DecompInterface()\n",
        "ifc.setOptions(options)\n",
        "ifc.openProgram(currentProgram)\n",
        "\n",
        "func = getFunctionContaining(TARGET_ADDR)\n",
        "res = ifc.decompileFunction(func, 60, monitor)\n",
        "high_func = res.getHighFunction()\n",
        "pcodeops = high_func.getPcodeOps(TARGET_ADDR)\n",
        "op = pcodeops.next()\n",
        "print(op.getInputs())"
      ],
      "metadata": {
        "id": "CFWnU1Pc70Xx"
      },
      "execution_count": null,
      "outputs": []
    },
    {
      "cell_type": "markdown",
      "source": [
        "## Analyzing function call arguments at cross references\n",
        "In this snippet we locate cross references to a target function (TARGET_FUNC) and show how we can analyze the arguments passed to each call. This can be helpful in analyzing malware, or potentially vulnerable functions. For malware analysis, this may help \"decrypt\" strings, or in vulnerability research this may help locate functions that may be vulnerable if called with an incorrect value. The specific analysis performed on the arguments of a called target function are up to you. This snippet will allow you to add your own analysis as you see fit."
      ],
      "metadata": {
        "id": "__OAzWu775ET"
      }
    },
    {
      "cell_type": "code",
      "source": [
        "from ghidra.app.decompiler import DecompileOptions\n",
        "from ghidra.app.decompiler import DecompInterface\n",
        "from ghidra.util.task import ConsoleTaskMonitor\n",
        "\n",
        "TARGET_FUNC = \"FUN_62de9540\"\n",
        "\n",
        "# Step 1. Get functions that call the target function ('callers')\n",
        "target_addr = 0\n",
        "callers = []\n",
        "funcs = getGlobalFunctions(TARGET_FUNC)\n",
        "for func in funcs:\n",
        "    if func.getName() == TARGET_FUNC:\n",
        "        print(\"\\nFound {} @ 0x{}\".format(TARGET_FUNC, func.getEntryPoint()))\n",
        "        target_addr = func.getEntryPoint()\n",
        "        references = getReferencesTo(target_addr)\n",
        "        for xref in references:\n",
        "            call_addr = xref.getFromAddress()\n",
        "            caller = getFunctionContaining(call_addr)\n",
        "            callers.append(caller)\n",
        "        break\n",
        "\n",
        "# deduplicate callers\n",
        "callers = list(set(callers))\n",
        "\n",
        "# Step 2. Decompile all callers and find PCODE CALL operations leading to `target_add`\n",
        "options = DecompileOptions()\n",
        "monitor = ConsoleTaskMonitor()\n",
        "ifc = DecompInterface()\n",
        "ifc.setOptions(options)\n",
        "ifc.openProgram(currentProgram)\n",
        "\n",
        "for caller in callers:\n",
        "    res = ifc.decompileFunction(caller, 60, monitor)\n",
        "    high_func = res.getHighFunction()\n",
        "    lsm = high_func.getLocalSymbolMap()\n",
        "    symbols = lsm.getSymbols()\n",
        "    if high_func:\n",
        "        opiter = high_func.getPcodeOps()\n",
        "        while opiter.hasNext():\n",
        "            op = opiter.next()\n",
        "            mnemonic = str(op.getMnemonic())\n",
        "            if mnemonic == \"CALL\":\n",
        "                inputs = op.getInputs()\n",
        "                addr = inputs[0].getAddress()\n",
        "                args = inputs[1:] # List of VarnodeAST types\n",
        "                if addr == target_addr:\n",
        "                    print(\"Call to {} at {} has {} arguments: {}\".format(addr, op.getSeqnum().getTarget(), len(args), args))\n",
        "                    for arg in args:\n",
        "                        # Do stuff with each `arg` here...\n",
        "                        # Not sure what to do? Check out this great article by Lars A. Wallenborn for some ideas:\n",
        "                        # https://blag.nullteilerfrei.de/2020/02/02/defeating-sodinokibi-revil-string-obfuscation-in-ghidra/\n",
        "                        # Specifically, search for the function implementation of \"traceVarnodeValue\"\n",
        "                        pass"
      ],
      "metadata": {
        "id": "br3Wrodr787h"
      },
      "execution_count": null,
      "outputs": []
    },
    {
      "cell_type": "markdown",
      "source": [
        "## Rename functions based on strings\n",
        "In some cases strings will either hint at or give the name of a function when symbols aren't available. In these cases, we can rename functions based on these strings to help perform reverse engineering. This becomes a daunting task when there are hundreds or thousands of these cases, making the process of copy, rename, paste, a soul crushing task. The power of tools like Ghidra is that you can script this. Take for example this decompiled function found in a binary:\n",
        "```\n",
        "undefined4 FUN_00056b58(void)\n",
        "{\n",
        "\tundefined4 in_r3;\n",
        "\n",
        "\tregister_function(1, \"core_Init_Database\", FUN_00058294);\n",
        "\tregister_function(1, \"core_Clear_Database\", FUN_00058374);\n",
        "\tregister_function(1, \"core_Auth_Database\", FUN_00058584);\n",
        "\tregister_function(1, \"core_Add_User_Database\", FUN_00058650);\n",
        "\n",
        "\t// ... hundreds more in this function and in others ...\n",
        "\n",
        "\treturn in_r3;\n",
        "}\n",
        "```\n",
        "In this function, we have calls to a `register_function` which correlates an event string with a handler function. We want to rename these functions so that FUN_00058294 becomes `core_Init_Database` and so on. Below is code that performs this task for `every register_function` in the target binary."
      ],
      "metadata": {
        "id": "r50lvoAL7_sk"
      }
    },
    {
      "cell_type": "code",
      "source": [
        "from ghidra.app.decompiler import DecompileOptions\n",
        "from ghidra.app.decompiler import DecompInterface\n",
        "from ghidra.util.task import ConsoleTaskMonitor\n",
        "\n",
        "def getString(addr):\n",
        "\tmem = currentProgram.getMemory()\n",
        "\tcore_name_str = \"\"\n",
        "\twhile True:\n",
        "\t\tbyte = mem.getByte(addr.add(len(core_name_str)))\n",
        "\t\tif byte == 0:\n",
        "\t\t\treturn core_name_str\n",
        "\t\tcore_name_str += chr(byte)\n",
        "\n",
        "# Get decompiler interface\n",
        "options = DecompileOptions()\n",
        "monitor = ConsoleTaskMonitor()\n",
        "ifc = DecompInterface()\n",
        "ifc.setOptions(options)\n",
        "ifc.openProgram(currentProgram)\n",
        "\n",
        "# Get reference to `register_function`\n",
        "fm = currentProgram.getFunctionManager()\n",
        "funcs = fm.getFunctions(True)\n",
        "register_function = None\n",
        "for func in funcs:\n",
        "\tif func.getName() == \"register_function\":\n",
        "\t\tregister_function = func\n",
        "\t\tbreak\n",
        "\n",
        "# Get xrefs to \"register_function\"\n",
        "entry_point = register_function.getEntryPoint()\n",
        "xrefs = getReferencesTo(entry_point)\n",
        "callers = []\n",
        "for xref in xrefs:\n",
        "\tfrom_addr = xref.getFromAddress()\n",
        "\tcaller = fm.getFunctionContaining(from_addr)\n",
        "\tif caller not in callers:\n",
        "\t\tcallers.append(caller)\n",
        "\n",
        "# Process callers (functions calling `register_function`)\n",
        "for caller in callers:\n",
        "\tif not caller:\n",
        "\t\tcontinue\n",
        "\tres = ifc.decompileFunction(caller, 60, monitor)\n",
        "\thf = res.getHighFunction()\n",
        "\topiter = hf.getPcodeOps()\n",
        "\twhile opiter.hasNext():\n",
        "\t\top = opiter.next()\n",
        "\t\tmnemonic = op.getMnemonic()\n",
        "\t\tif mnemonic == \"CALL\":\n",
        "\t\t\tcall_target = op.getInput(0)\n",
        "\t\t\tif call_target.getAddress() == entry_point:\n",
        "\t\t\t\tcore_name = op.getInput(2)\n",
        "\t\t\t\tcore_func = op.getInput(3)\n",
        "\t\t\t\tcore_name_def = core_name.getDef()\n",
        "\t\t\t\tcore_name_addr = toAddr(core_name_def.getInput(0).getOffset())\n",
        "\t\t\t\tcore_string = getString(core_name_addr)\n",
        "\t\t\t\tcore_func_addr = toAddr(core_func.getDef().getInput(1).getOffset())\n",
        "\t\t\t\tcore_func_obj = fm.getFunctionAt(core_func_addr)\n",
        "\t\t\t\tcore_func_obj.setName(core_string, ghidra.program.model.symbol.SourceType.DEFAULT)"
      ],
      "metadata": {
        "id": "X1D97UOy8MDK"
      },
      "execution_count": null,
      "outputs": []
    },
    {
      "cell_type": "markdown",
      "source": [
        "# Working with Instructions\n",
        "## Print all instructions in a select function\n",
        "Just like objdump or a disas command in GDB, Ghidra provides a way to dump instructions if you need. You might do this to generate input for another application, or for documenting issues found during analysis. Whatever you use case might be, you can easily acquire the address, opcodes, and instruction text for a target function, or specific addresses."
      ],
      "metadata": {
        "id": "FZdJYEC18OAa"
      }
    },
    {
      "cell_type": "code",
      "source": [
        "from binascii import hexlify\n",
        "\n",
        "listing = currentProgram.getListing()\n",
        "main_func = getGlobalFunctions(\"main\")[0] # assume there's only 1 function named 'main'\n",
        "addrSet = main_func.getBody()\n",
        "codeUnits = listing.getCodeUnits(addrSet, True) # true means 'forward'\n",
        "\n",
        "for codeUnit in codeUnits:\n",
        "\tprint(\"0x{} : {:16} {}\".format(codeUnit.getAddress(), hexlify(codeUnit.getBytes()), codeUnit.toString()))"
      ],
      "metadata": {
        "id": "r47Z9-Ix8SYq"
      },
      "execution_count": null,
      "outputs": []
    },
    {
      "cell_type": "markdown",
      "source": [
        "# Find all calls and jumps to a register\n",
        "This snippet shows how to find all instructions in an x86 program that are calls or jumps to a regitser. This information can be useful when attempting to track down a crash by researching code flow in hard-to-debug targets. `getRegister` returns `None` when the specified index is not a regitser. We use `startswith('J')` to account for all jump variants. This is not architecture agnostic and a little goofy but it gets the job done."
      ],
      "metadata": {
        "id": "98m4y_HD8Ups"
      }
    },
    {
      "cell_type": "code",
      "source": [
        "listing = currentProgram.getListing()\n",
        "func = getFirstFunction()\n",
        "entryPoint = func.getEntryPoint()\n",
        "instructions = listing.getInstructions(entryPoint, True)\n",
        "\n",
        "for instruction in instructions:\n",
        "    addr = instruction.getAddress()\n",
        "    oper = instruction.getMnemonicString()\n",
        "    if (oper.startswith('CALL') or oper.startswith('J') and instruction.getRegister(0)):\n",
        "        print(\"0x{} : {}\".format(addr, instruction))"
      ],
      "metadata": {
        "id": "EID5zeAa8eZe"
      },
      "execution_count": null,
      "outputs": []
    },
    {
      "cell_type": "markdown",
      "source": [
        "# Count all mnemonics in a binary\n",
        "While recently preparing to teach some introductary x86, I wanted to know the most used mnemonics appearing in a given application to make sure I covered them. This is insanely easy to do in Binary Ninja, but a bit more involved in Ghidra. Essentially, we track mnemonics in a dictionary and increment the count as we process all instructions in a binary.\n",
        "\n",
        "This requires getting a `InstructionDB` and using the `getMnemonicString` method to determine the mnemonic of the native assembly instruction. At the end of this snippet, we copy/pasta code from StackOverflow to sort our collected data without really thinking about how it works and we call it a day. All joking aside, this is a pretty neat way to prioritize which instructions you should focus on learning if you're learning a new architecture and don't know where to begin."
      ],
      "metadata": {
        "id": "fpmCngjf8gkp"
      }
    },
    {
      "cell_type": "code",
      "source": [
        "instructions = {}\n",
        "af = currentProgram.getAddressFactory()\n",
        "\n",
        "func = getFirstFunction()\n",
        "addr = af.getAddress(str(func.getEntryPoint()))\n",
        "ins = getInstructionAt(addr)\n",
        "\n",
        "while ins is not None:\n",
        "    mnemonic = ins.getMnemonicString()\n",
        "    if mnemonic in instructions:\n",
        "        instructions[mnemonic] += 1\n",
        "    else:\n",
        "        instructions[mnemonic] = 1\n",
        "    ins = ins.getNext()\n",
        "\n",
        "ins_sorted = [ (i,mnem) for mnem,i in instructions.iteritems() ]\n",
        "ins_sorted.sort(reverse=True)\n",
        "for i,mnem in ins_sorted:\n",
        "    print(\"{}: {}\".format(i, mnem))"
      ],
      "metadata": {
        "id": "qrMdeg8W8pOD"
      },
      "execution_count": null,
      "outputs": []
    },
    {
      "cell_type": "markdown",
      "source": [
        "# Working with Variables\n",
        "## Get a stack variable from a Varnode or VarnodeAST\n",
        "When working with refined PCode you'll almost exclusively be dealing with VarnodeAST or PCodeOpAST objects. Correlating these objects to stack variables is not something exposed by the Ghidra API (as far as I can tell in v9.2.2). This leads to a complex mess of taking a varnode and comparing it to the decompiler's stack variable symbols for a given function. It's not intutitive, and quite frankly, it's been the most confusing and complex thing I've done with the Ghidra API to date.\n",
        "\n",
        "This function works when you're passing a Varnode/AST of a simple variable, say something like this:\n",
        "```\n",
        "memset(local_88,0,0x10);\n",
        "```\n",
        "If you want to know what that the first argument (local_88) is named \"local_88\" and get its size, you can use this function. If that first parameter include nested `PCodeOpAST`s however, say something like (char *)local_a8, this function will not work because the variable is \"wrapped\" inside of a CAST operation. In order to work, this needs to be paired with `get_vars_from_varnode` (ctrl-f to find its definition) to unwrap this onion, isolate the variable VarnodeAST, and then pass it here. There's an example of doing that in this document under the heading \"Get stack variables from a PcodeOpAST\"."
      ],
      "metadata": {
        "id": "-nb8nTZR8sOH"
      }
    },
    {
      "cell_type": "code",
      "source": [
        "def get_stack_var_from_varnode(func, varnode):\n",
        "    if type(varnode) not in [Varnode, VarnodeAST]:\n",
        "        raise Exception(\"Invalid value. Expected `Varnode` or `VarnodeAST`, got {}.\".format(type(varnode)))\n",
        "\n",
        "    bitness_masks = {\n",
        "        '16': 0xffff,\n",
        "        '32': 0xffffffff,\n",
        "        '64': 0xffffffffffffffff,\n",
        "    }\n",
        "\n",
        "    try:\n",
        "      addr_size = currentProgram.getMetadata()['Address Size']\n",
        "      bitmask = bitness_masks[addr_size]\n",
        "    except KeyError:\n",
        "      raise Exception(\"Unsupported bitness: {}. Add a bit mask for this target.\".format(addr_size))\n",
        "\n",
        "    local_variables = func.getAllVariables()\n",
        "    vndef = varnode.getDef()\n",
        "    if vndef:\n",
        "        vndef_inputs = vndef.getInputs()\n",
        "        for defop_input in vndef_inputs:\n",
        "            defop_input_offset = defop_input.getAddress().getOffset() & bitmask\n",
        "            for lv in local_variables:\n",
        "                unsigned_lv_offset = lv.getMinAddress().getUnsignedOffset() & bitmask\n",
        "                if unsigned_lv_offset == defop_input_offset:\n",
        "                    return lv\n",
        "\n",
        "        # If we get here, varnode is likely a \"acStack##\" variable.\n",
        "        hf = get_high_function(func)\n",
        "        lsm = hf.getLocalSymbolMap()\n",
        "        for vndef_input in vndef_inputs:\n",
        "            defop_input_offset = vndef_input.getAddress().getOffset() & bitmask\n",
        "            for symbol in lsm.getSymbols():\n",
        "                if symbol.isParameter():\n",
        "                    continue\n",
        "                if defop_input_offset == symbol.getStorage().getFirstVarnode().getOffset() & bitmask:\n",
        "                    return symbol\n",
        "\n",
        "    # unable to resolve stack variable for given varnode\n",
        "    return None"
      ],
      "metadata": {
        "id": "HRc4ZpiW9ABx"
      },
      "execution_count": null,
      "outputs": []
    },
    {
      "cell_type": "markdown",
      "source": [
        "## Get stack variables from a PcodeOpAST\n",
        "If you took a look at the code under the section \"Get a stack variable from a Varnode or VarnodeAST\", you'll probably be asking why that code works for something like: `memset(local_88,0,0x10);` but it fails for strchr((char *)local_a8,10);. The reason is that local_88 is a VarnodeAST while (char *)local_a8 is a PcodeOpAST. In other words, the local_a8 varnode is \"wrapped\" inside of a PcodeOpAST and you can't associate it to any kind of meaningful value without first \"unwrapping\" it. Of course, a wrapped VarnodeAST could be wrapped in numerous CAST operations and INT_ADD operations, etc. So how do we handle this? Recursion. * shudder *.\n",
        "\n",
        "Fair warning, recursion is my computer science nemisis. If you look at this code and think \"this is odd\" - you're probably right!\n",
        "\n",
        "That being said, let's slap something like (char *)local_a8 into this function and see if we can get the associated variable name(s) out of it. It's perfectly fine to pass a PcodeOpAST with multiple variables (e.g. (long)iVar2 + local_a0) into this function. It will just return a list of all variables contained in that VarnodeAST.\n",
        "\n"
      ],
      "metadata": {
        "id": "xKcQFjIZ9OTE"
      }
    },
    {
      "cell_type": "code",
      "source": [
        "def get_vars_from_varnode(func, node, variables=None):\n",
        "    if type(node) not in [PcodeOpAST, VarnodeAST]:\n",
        "        raise Exception(\"Invalid value passed. Got {}.\".format(type(node)))\n",
        "\n",
        "    # create `variables` list on first call. Do not make `variables` default to [].\n",
        "    if variables == None:\n",
        "        variables = []\n",
        "\n",
        "    # We must use `getDef()` on VarnodeASTs\n",
        "    if type(node) == VarnodeAST:\n",
        "        # For `get_stack_var_from_varnode` see:\n",
        "        # https://github.com/HackOvert/GhidraSnippets\n",
        "        # Ctrl-F for \"get_stack_var_from_varnode\"\n",
        "        var = get_stack_var_from_varnode(func, node)\n",
        "        if var and type(var) != HighSymbol:\n",
        "            variables.append(var.getName())\n",
        "        node = node.getDef()\n",
        "        if node:\n",
        "            variables = get_vars_from_varnode(func, node, variables)\n",
        "\n",
        "    # We must call `getInputs()` on PcodeOpASTs\n",
        "    elif type(node) == PcodeOpAST:\n",
        "        nodes = list(node.getInputs())\n",
        "        for node in nodes:\n",
        "            if type(node.getHigh()) == HighLocal:\n",
        "                variables.append(node.getHigh().getName())\n",
        "            else:\n",
        "                variables = get_vars_from_varnode(func, node, variables)\n",
        "\n",
        "    return variables"
      ],
      "metadata": {
        "id": "Gm7zDnhb9gN_"
      },
      "execution_count": null,
      "outputs": []
    },
    {
      "cell_type": "markdown",
      "source": [
        "# Working with Basic Blocks\n",
        "Basic Blocks are collections of continuous non-branching instructions within Functions. They are joined by conditional and non-conditional branches, revealing valuable information about a program and function's code flow. This section deals with examples working with Basic Block models.\n",
        "\n",
        "## Print details about basic blocks in a select function"
      ],
      "metadata": {
        "id": "aTaCcpAj9ibB"
      }
    },
    {
      "cell_type": "code",
      "source": [
        "from ghidra.program.model.block import BasicBlockModel\n",
        "from ghidra.util.task import ConsoleTaskMonitor\n",
        "\n",
        "funcName = 'main'\n",
        "blockModel = BasicBlockModel(currentProgram)\n",
        "monitor = ConsoleTaskMonitor()\n",
        "func = getGlobalFunctions(funcName)[0]\n",
        "\n",
        "print(\"Basic block details for function '{}':\".format(funcName))\n",
        "blocks = blockModel.getCodeBlocksContaining(func.getBody(), monitor)\n",
        "\n",
        "# print first block\n",
        "print(\"\\t[*] {} \".format(func.getEntryPoint()))\n",
        "\n",
        "# print any remaining blocks\n",
        "while(blocks.hasNext()):\n",
        "    bb = blocks.next()\n",
        "    dest = bb.getDestinations(monitor)\n",
        "    while(dest.hasNext()):\n",
        "        dbb = dest.next()\n",
        "        # For some odd reason `getCodeBlocksContaining()` and `.next()`\n",
        "        # return the root basic block after CALL instructions (x86). To filter\n",
        "        # these out, we use `getFunctionAt()` which returns `None` if the address\n",
        "        # is not the entry point of a function. See:\n",
        "        # https://github.com/NationalSecurityAgency/ghidra/issues/855\n",
        "        if not getFunctionAt(dbb.getDestinationAddress()):\n",
        "            print(\"\\t[*] {} \".format(dbb))"
      ],
      "metadata": {
        "id": "XC9l4URc9kxY"
      },
      "execution_count": null,
      "outputs": []
    },
    {
      "cell_type": "markdown",
      "source": [
        "# Working with the Decompiler\n",
        "## Print decompiled code for a specific function\n",
        "Ghidra's decompiler is an exceptional resource. In certain cases you might want to extract the decompiler output for a list of functions. Here's an easy way to gather that information. Just add your own file I/O code to dump everything to individual files for analysis."
      ],
      "metadata": {
        "id": "GYUjP9Q09nTg"
      }
    },
    {
      "cell_type": "code",
      "source": [
        "from ghidra.app.decompiler import DecompInterface\n",
        "from ghidra.util.task import ConsoleTaskMonitor\n",
        "\n",
        "program = getCurrentProgram()\n",
        "ifc = DecompInterface()\n",
        "ifc.openProgram(program)\n",
        "\n",
        "# here we assume there is only one function named `main`\n",
        "function = getGlobalFunctions('main')[0]\n",
        "\n",
        "# decompile the function and print the pseudo C\n",
        "results = ifc.decompileFunction(function, 0, ConsoleTaskMonitor())\n",
        "print(results.getDecompiledFunction().getC())"
      ],
      "metadata": {
        "id": "aYj7q1CZ9r3g"
      },
      "execution_count": null,
      "outputs": []
    },
    {
      "cell_type": "markdown",
      "source": [
        "## Getting variable information from the decompiler\n",
        "Ghidra's decompiler performs a lot of analysis in order to recover variable information. If you're interested in getting this information you'll need to use the decompiler interface to get a high function and its symbols. Once you have this data, you can enumerate the symbols and retrieve information about variables in the target function. Let's take a look at an example decompiled function:\n",
        "\n"
      ],
      "metadata": {
        "id": "jwTc9oUi92zF"
      }
    },
    {
      "cell_type": "code",
      "source": [
        "undefined8 func(int param_1,int param_2)\n",
        "{\n",
        "  long in_FS_OFFSET;\n",
        "  uint auStack88 [8];\n",
        "  undefined4 auStack56 [10];\n",
        "  long local_10;\n",
        "\n",
        "  local_10 = *(long *)(in_FS_OFFSET + 0x28);\n",
        "  auStack56[param_1] = 1;\n",
        "  printf(\"%d\\n\",(ulong)auStack88[param_2]);\n",
        "  if (local_10 != *(long *)(in_FS_OFFSET + 0x28)) {\n",
        "    __stack_chk_fail();\n",
        "  }\n",
        "  return 0;\n",
        "}"
      ],
      "metadata": {
        "id": "c9iWoGxW93_n"
      },
      "execution_count": null,
      "outputs": []
    },
    {
      "cell_type": "markdown",
      "source": [
        "The decompiled function above shows two stack variables that seem interesting to us; auStack88 and auStack56. Let's get that information programmatically."
      ],
      "metadata": {
        "id": "3ALyN0xK96CG"
      }
    },
    {
      "cell_type": "code",
      "source": [
        "from ghidra.app.decompiler import DecompileOptions\n",
        "from ghidra.app.decompiler import DecompInterface\n",
        "from ghidra.util.task import ConsoleTaskMonitor\n",
        "\n",
        "func_name = \"func\"\n",
        "func = getGlobalFunctions(func_name)[0]\n",
        "options = DecompileOptions()\n",
        "monitor = ConsoleTaskMonitor()\n",
        "ifc = DecompInterface()\n",
        "ifc.setOptions(options)\n",
        "ifc.openProgram(func.getProgram())\n",
        "res = ifc.decompileFunction(func, 60, monitor)\n",
        "high_func = res.getHighFunction()\n",
        "lsm = high_func.getLocalSymbolMap()\n",
        "symbols = lsm.getSymbols()\n",
        "\n",
        "for i, symbol in enumerate(symbols):\n",
        "    print(\"\\nSymbol {}:\".format(i+1))\n",
        "    print(\"  name:         {}\".format(symbol.name))\n",
        "    print(\"  dataType:     {}\".format(symbol.dataType))\n",
        "    print(\"  getPCAddress: 0x{}\".format(symbol.getPCAddress()))\n",
        "    print(\"  size:         {}\".format(symbol.size))\n",
        "    print(\"  storage:      {}\".format(symbol.storage))\n",
        "    print(\"  parameter:    {}\".format(symbol.parameter))\n",
        "    print(\"  readOnly:     {}\".format(symbol.readOnly))\n",
        "    print(\"  typeLocked:   {}\".format(symbol.typeLocked))\n",
        "    print(\"  nameLocked:   {}\".format(symbol.nameLocked))\n",
        "    print(\"  slot:         {}\".format(symbol.slot))"
      ],
      "metadata": {
        "id": "T9LhNqne96g5"
      },
      "execution_count": null,
      "outputs": []
    },
    {
      "cell_type": "markdown",
      "source": [
        "# Working with Comments\n",
        "## Get all Automatic comments for a function\n",
        "Ghidra adds \"automatic comments\" (light gray in color) in the EOL field. Here's how you can access those comments."
      ],
      "metadata": {
        "id": "VjSyWGYb98m4"
      }
    },
    {
      "cell_type": "code",
      "source": [
        "from ghidra.app.util import DisplayableEol\n",
        "\n",
        "listing = currentProgram.getListing()\n",
        "func = getGlobalFunctions(\"frame_dummy\")[0]\n",
        "addrSet = func.getBody()\n",
        "codeUnits = listing.getCodeUnits(addrSet, True)\n",
        "\n",
        "for codeUnit in codeUnits:\n",
        "\tdeol = DisplayableEol(codeUnit, True, True, True, True, 5, True)\n",
        "\tif deol.hasAutomatic():\n",
        "\t\tac = deol.getAutomaticComment()\n",
        "\t\tprint(type(ac))\n",
        "\t\tprint(ac)\n",
        "\t\tprint(ac[0])"
      ],
      "metadata": {
        "id": "EWzCxGEc-ElQ"
      },
      "execution_count": null,
      "outputs": []
    },
    {
      "cell_type": "markdown",
      "source": [
        "# Get specific comment types for all functions\n",
        "Ghidra supports 5 unique comment types users can add to their projects. This snippet shows you show to print all comments by type. This snippet is a slightly modified version of what user u/securisec posted in the Ghidra subreddit, r/ghidra. Thanks!"
      ],
      "metadata": {
        "id": "ccP20JAd-Gpt"
      }
    },
    {
      "cell_type": "code",
      "source": [
        "fm = currentProgram.getFunctionManager()\n",
        "listing = currentProgram.getListing()\n",
        "funcs = fm.getFunctions(True) # True means iterate forward\n",
        "\n",
        "comment_types = {\n",
        "    0: 'EOL',\n",
        "    1: 'PRE',\n",
        "    2: 'POST',\n",
        "    3: 'PLATE',\n",
        "    4: 'REPEATABLE',\n",
        "}\n",
        "\n",
        "for func in funcs:\n",
        "    addrSet = func.getBody()\n",
        "    codeUnits = listing.getCodeUnits(addrSet, True)\n",
        "    for codeUnit in codeUnits:\n",
        "        for i, comment_type in comment_types.items():\n",
        "            comment = codeUnit.getComment(i)\n",
        "            if comment is not None:\n",
        "                comment = comment.decode(\"utf-8\")\n",
        "                print(\"[{} : {}] {}: {}\".format(func.name, codeUnit.address, comment_type, comment))"
      ],
      "metadata": {
        "id": "zlk0PgAY-Job"
      },
      "execution_count": null,
      "outputs": []
    },
    {
      "cell_type": "markdown",
      "source": [
        "# Working with PCode\n",
        "## Emulating a function\n",
        "Instruction emulation is an extremely powerful technique to asist in static code analysis. Rarely however, do we have the full memory context in which dynamic code executes. So while emulation can bring an element of 'dynamic' analysis to static RE, it's typically plagued with problems of unknown memory state. For simple code this might be no problem. For object oriented code this can be a major difficulty. Either way, some element of emulation can help tremendously in speeding up analysis. Ghidra uses its internal intermediate representation (PCode) to define what instructions do. Emulation is the process of tracking these changes in a cumulative state. Unfortunely Ghidra doesn't provide fancy GUI controls around the emulator (yet), but it's fully scriptable. Ghidra v9.1 added emprovements to the EmulatorHelper class, which is really quite amazing. Here's a simple example of what you can do with it."
      ],
      "metadata": {
        "id": "zlIDuVjC-Lba"
      }
    },
    {
      "cell_type": "code",
      "source": [
        "from ghidra.app.emulator import EmulatorHelper\n",
        "from ghidra.program.model.symbol import SymbolUtilities\n",
        "\n",
        "# == Helper functions ======================================================\n",
        "def getAddress(offset):\n",
        "    return currentProgram.getAddressFactory().getDefaultAddressSpace().getAddress(offset)\n",
        "\n",
        "def getSymbolAddress(symbolName):\n",
        "    symbol = SymbolUtilities.getLabelOrFunctionSymbol(currentProgram, symbolName, None)\n",
        "    if (symbol != None):\n",
        "        return symbol.getAddress()\n",
        "    else:\n",
        "        raise(\"Failed to locate label: {}\".format(symbolName))\n",
        "\n",
        "def getProgramRegisterList(currentProgram):\n",
        "    pc = currentProgram.getProgramContext()\n",
        "    return pc.registers\n",
        "\n",
        "# == Main function =========================================================\n",
        "def main():\n",
        "    CONTROLLED_RETURN_OFFSET = 0\n",
        "\n",
        "    # Identify function to be emulated\n",
        "    mainFunctionEntry = getSymbolAddress(\"main\")\n",
        "\n",
        "    # Establish emulation helper, please check out the API docs\n",
        "    # for `EmulatorHelper` - there's a lot of helpful things\n",
        "    # to help make architecture agnostic emulator tools.\n",
        "    emuHelper = EmulatorHelper(currentProgram)\n",
        "\n",
        "    # Set controlled return location so we can identify return from emulated function\n",
        "    controlledReturnAddr = getAddress(CONTROLLED_RETURN_OFFSET)\n",
        "\n",
        "    # Set initial RIP\n",
        "    mainFunctionEntryLong = int(\"0x{}\".format(mainFunctionEntry), 16)\n",
        "    emuHelper.writeRegister(emuHelper.getPCRegister(), mainFunctionEntryLong)\n",
        "\n",
        "    # For x86_64 `registers` contains 872 registers! You probably don't\n",
        "    # want to print all of these. Just be aware, and print what you need.\n",
        "    # To see all supported registers. just print `registers`.\n",
        "    # We won't use this, it's just here to show you how to query\n",
        "    # valid registers for your target architecture.\n",
        "    registers = getProgramRegisterList(currentProgram)\n",
        "\n",
        "    # Here's a list of all the registers we want printed after each\n",
        "    # instruction. Modify this as you see fit, based on your architecture.\n",
        "    reg_filter = [\n",
        "        \"RIP\", \"RAX\", \"RBX\", \"RCX\", \"RDX\", \"RSI\", \"RDI\",\n",
        "        \"RSP\", \"RBP\", \"rflags\"\n",
        "    ]\n",
        "\n",
        "    # Setup your desired starting state. By default, all registers\n",
        "    # and memory will be 0. This may or may not be acceptable for\n",
        "    # you. So please be aware.\n",
        "    emuHelper.writeRegister(\"RAX\", 0x20)\n",
        "    emuHelper.writeRegister(\"RSP\", 0x000000002FFF0000)\n",
        "    emuHelper.writeRegister(\"RBP\", 0x000000002FFF0000)\n",
        "\n",
        "    # There are a couple of ways to write memory, use `writeMemoryValue` if you want\n",
        "    # to set a small typed value (e.g. uint64). Use `writeMemory` if you're mapping in\n",
        "    # a lot of memory (e.g. from a debugger memory dump). Note that each of these\n",
        "    # methods write with different endianess, see the example output.\n",
        "    emuHelper.writeMemoryValue(getAddress(0x000000000008C000), 4, 0x99AABBCC)  # writes big endian\n",
        "    emuHelper.writeMemory(getAddress(0x00000000000CF000), b'\\x99\\xAA\\xBB\\xCC') # writes little endian\n",
        "\n",
        "    # You can verify writes worked, or just read memory at select points\n",
        "    # during emulation. Here's a couple of examples:\n",
        "    mem1 = emuHelper.readMemory(getAddress(0x000000000008C000), 4)\n",
        "    mem2 = emuHelper.readMemory(getAddress(0x00000000000CF000), 4)\n",
        "    print(\"Memory at 0x000000000008C000: {}\".format(mem1))\n",
        "    print(\"Memory at 0x00000000000CF000: {}\".format(mem2))\n",
        "\n",
        "    print(\"Emulation starting at 0x{}\".format(mainFunctionEntry))\n",
        "    while monitor.isCancelled() is False:\n",
        "\n",
        "        # Check the current address in the program counter, if it's\n",
        "        # zero (our `CONTROLLED_RETURN_OFFSET` value) stop emulation.\n",
        "        # Set this to whatever end target you want.\n",
        "        executionAddress = emuHelper.getExecutionAddress()\n",
        "        if (executionAddress == controlledReturnAddr):\n",
        "            print(\"Emulation complete.\")\n",
        "            return\n",
        "\n",
        "        # Print current instruction and the registers we care about\n",
        "        print(\"Address: 0x{} ({})\".format(executionAddress, getInstructionAt(executionAddress)))\n",
        "        for reg in reg_filter:\n",
        "            reg_value = emuHelper.readRegister(reg)\n",
        "            print(\"  {} = {:#018x}\".format(reg, reg_value))\n",
        "\n",
        "        # single step emulation\n",
        "        success = emuHelper.step(monitor)\n",
        "        if (success == False):\n",
        "            lastError = emuHelper.getLastError()\n",
        "            printerr(\"Emulation Error: '{}'\".format(lastError))\n",
        "            return\n",
        "\n",
        "    # Cleanup resources and release hold on currentProgram\n",
        "    emuHelper.dispose()\n",
        "\n",
        "# == Invoke main ===========================================================\n",
        "main()"
      ],
      "metadata": {
        "id": "FpVvblZC-VYh"
      },
      "execution_count": null,
      "outputs": []
    },
    {
      "cell_type": "markdown",
      "source": [
        "# Dumping Raw PCode\n",
        "PCode exists in two primary forms you as a user should consider, \"raw\" and \"refined\". In documentation both forms are simply referred to as \"PCode\" making it confusing to talk about - so I distinguish between the forms using raw and refined. Just know theses are not universally accepted terms.\n",
        "\n",
        "So raw PCode is the first pass, and the form that's displayed in the \"Listing\" pane inside the Ghidra UI. It's extremely verbose and explicit. This is the form you want to use when emulating, if you're writing a symbolic executor, or anything of the sort. If you want details from the decompiler passes, you want to analyze refined PCode, not this stuff! So what does it look like and how do you access it? Let's take a look."
      ],
      "metadata": {
        "id": "YUIUiKW_-X6R"
      }
    },
    {
      "cell_type": "code",
      "source": [
        "def dump_raw_pcode(func):\n",
        "    func_body = func.getBody()\n",
        "    listing = currentProgram.getListing()\n",
        "    opiter = listing.getInstructions(func_body, True)\n",
        "    while opiter.hasNext():\n",
        "        op = opiter.next()\n",
        "        raw_pcode = op.getPcode()\n",
        "        print(\"{}\".format(op))\n",
        "        for entry in raw_pcode:\n",
        "            print(\"  {}\".format(entry))\n",
        "\n",
        "func = getGlobalFunctions(\"main\")[0]    # assumes only one function named `main`\n",
        "dump_raw_pcode(func)            \t    # dump raw pcode as strings"
      ],
      "metadata": {
        "id": "G0ewFy_F-cms"
      },
      "execution_count": null,
      "outputs": []
    },
    {
      "cell_type": "markdown",
      "source": [
        "# Dumping Refined PCode\n",
        "PCode exists in two primary forms you as a user should consider, \"raw\" and \"refined\". In documentation both forms are simply referred to as \"PCode\" making it confusing to talk about - so I distinguish between the forms using raw and refined. Just know theses are not universally accepted terms.\n",
        "\n",
        "So refined PCode is heavily processed. It highly relates to the output you see in the decompiler, and if you're interested in making use of the Ghidra decompiler passes, this is the form of PCode you'll want to analyze. There are many interesting aspects of refined PCode we do not cover here, including unique values and name spaces. Just know that what might appear to be simple has a lot of analysis backing it and digging into these refined PCode elements are worth your time."
      ],
      "metadata": {
        "id": "pkqCaOiB-fXo"
      }
    },
    {
      "cell_type": "code",
      "source": [
        "from ghidra.util.task import ConsoleTaskMonitor\n",
        "from ghidra.app.decompiler import DecompileOptions, DecompInterface\n",
        "\n",
        "# == helper functions =============================================================================\n",
        "def get_high_function(func):\n",
        "    options = DecompileOptions()\n",
        "    monitor = ConsoleTaskMonitor()\n",
        "    ifc = DecompInterface()\n",
        "    ifc.setOptions(options)\n",
        "    ifc.openProgram(getCurrentProgram())\n",
        "    # Setting a simplification style will strip useful `indirect` information.\n",
        "    # Please don't use this unless you know why you're using it.\n",
        "    #ifc.setSimplificationStyle(\"normalize\")\n",
        "    res = ifc.decompileFunction(func, 60, monitor)\n",
        "    high = res.getHighFunction()\n",
        "    return high\n",
        "\n",
        "def dump_refined_pcode(func, high_func):\n",
        "    opiter = high_func.getPcodeOps()\n",
        "    while opiter.hasNext():\n",
        "        op = opiter.next()\n",
        "        print(\"{}\".format(op.toString()))\n",
        "\n",
        "# == run examples =================================================================================\n",
        "func = getGlobalFunctions(\"main\")[0]    # assumes only one function named `main`\n",
        "hf = get_high_function(func)            # we need a high function from the decompiler\n",
        "dump_refined_pcode(func, hf)            # dump straight refined pcode as strings"
      ],
      "metadata": {
        "id": "h_UbdQT1-hIt"
      },
      "execution_count": null,
      "outputs": []
    },
    {
      "cell_type": "markdown",
      "source": [
        "# Plotting a Function AST\n",
        "Ghidra does not define a default graph provider, so you cannot graph abstract synatax trees out of the box. Here's a snippet that takes elements from Ghidra's Graph Java snippets and hacks them together to get an SVG version of a function's AST. This requires you to have GraphViz installed with the dot binary in your PATH, and networkx and pydot accessible from the Ghidra Jython console. Basically, I just copy my Python2 site-packages over to my ghidra_scripts directory and everything works. Keep in mind that if your Python module uses a natively compiled element (like Matplot lib does), you won't be able to use it in Jython. If you know of a way, please let me know."
      ],
      "metadata": {
        "id": "LwCD71Su-iID"
      }
    },
    {
      "cell_type": "code",
      "source": [
        "import networkx as nx\n",
        "import pydot\n",
        "\n",
        "from ghidra.app.script import GhidraScript\n",
        "from ghidra.util.task import ConsoleTaskMonitor\n",
        "from ghidra.app.decompiler import DecompileOptions, DecompInterface\n",
        "from ghidra.program.model.pcode import PcodeOp\n",
        "\n",
        "def buildAST(func):\n",
        "    options = DecompileOptions()\n",
        "    monitor = ConsoleTaskMonitor()\n",
        "    ifc = DecompInterface()\n",
        "    ifc.setOptions(options)\n",
        "    ifc.openProgram(getCurrentProgram())\n",
        "    ifc.setSimplificationStyle(\"normalize\")\n",
        "    res = ifc.decompileFunction(func, 60, monitor)\n",
        "    high = res.getHighFunction()\n",
        "    return high\n",
        "\n",
        "def buildGraph(graph, func, high):\n",
        "    vertices = {}\n",
        "    opiter = getPcodeOpIterator(high)\n",
        "    while opiter.hasNext():\n",
        "        op = opiter.next()\n",
        "        vert = createOpVertex(func, op)\n",
        "        graph.add_node(vert)\n",
        "        for i in range(0, op.getNumInputs()):\n",
        "            opcode = op.getOpcode()\n",
        "            if (i == 0 and (opcode == PcodeOp.LOAD or opcode == PcodeOp.STORE)):\n",
        "                continue\n",
        "            if (i == 1 and opcode == PcodeOp.INDIRECT):\n",
        "                continue\n",
        "            vn = op.getInput(i)\n",
        "            if (vn != None):\n",
        "                v = getVarnodeVertex(graph, vertices, vn)\n",
        "                graph.add_edge(v, vert)\n",
        "\n",
        "        outvn = op.getOutput()\n",
        "        if (outvn != None):\n",
        "            outv = getVarnodeVertex(graph, vertices, outvn)\n",
        "            if (outv != None):\n",
        "                graph.add_edge(vert, outv)\n",
        "\n",
        "def createOpVertex(func, op):\n",
        "    name = op.getMnemonic()\n",
        "    id = getOpKey(op)\n",
        "    opcode = op.getOpcode()\n",
        "    if ((opcode == PcodeOp.LOAD) or (opcode == PcodeOp.STORE)):\n",
        "        vn = op.getInput(0)\n",
        "        addrspace = currentProgram.getAddressFactory().getAddressSpace(vn.getOffset())\n",
        "        name += ' ' + addrspace.getName()\n",
        "    elif (opcode == PcodeOp.INDIRECT):\n",
        "        vn = op.getInput(1)\n",
        "        if (vn != None):\n",
        "            indOp = high.getOpRef(vn.getOffset())\n",
        "            if (indOp != None):\n",
        "                name += \" (\" + indOp.getMnemonic() + \")\"\n",
        "    return \"{}_{}\".format(name, id)\n",
        "\n",
        "def createVarnodeVertex(graph, vn):\n",
        "    name = str(vn.getAddress())\n",
        "    id = getVarnodeKey(vn)\n",
        "    if (vn.isRegister()):\n",
        "        reg = currentProgram.getRegister(vn.getAddress(), vn.getSize())\n",
        "        if (reg != None):\n",
        "            name = reg.getName()\n",
        "    return \"{}_{}\".format(name, id)\n",
        "\n",
        "def getVarnodeVertex(graph, vertices, vn):\n",
        "    res = None\n",
        "    try:\n",
        "        res = vertices[str(vn.getUniqueId())]\n",
        "    except KeyError:\n",
        "        res = None\n",
        "    if (res == None):\n",
        "        res = createVarnodeVertex(graph, vn)\n",
        "        vertices[str(vn.getUniqueId())] = res\n",
        "    return res\n",
        "\n",
        "def getAddress(offset):\n",
        "    return currentProgram.getAddressFactory().getDefaultAddressSpace().getAddress(offset)\n",
        "\n",
        "def getOpKey(op):\n",
        "    sq = op.getSeqnum()\n",
        "    id = str(sq.getTarget()) + \" o \" + str(op.getSeqnum().getTime())\n",
        "    return id\n",
        "\n",
        "def getPcodeOpIterator(high):\n",
        "    return high.getPcodeOps()\n",
        "\n",
        "def getVarnodeKey(vn):\n",
        "    op = vn.getDef()\n",
        "    id = \"\"\n",
        "    if (op != None):\n",
        "        id = str(op.getSeqnum().getTarget()) + \" v \" + str(vn.getUniqueId())\n",
        "    else:\n",
        "        id = \"i v \" + str(vn.getUniqueId())\n",
        "    return id\n",
        "\n",
        "def main():\n",
        "    graph = nx.DiGraph()\n",
        "    listing = currentProgram.getListing()\n",
        "    func = getFunctionContaining(getAddress(0x00100690))\n",
        "    high = buildAST(func)\n",
        "    buildGraph(graph, func, high)\n",
        "\n",
        "    dot_data = nx.nx_pydot.to_pydot(graph)\n",
        "    svg = pydot.graph_from_dot_data(dot_data.to_string())[0].create_svg()\n",
        "    svg_path = \"C:\\\\Users\\\\username\\\\Desktop\\\\test.svg\"\n",
        "    f = open(svg_path, 'w')\n",
        "    f.write(svg)\n",
        "    f.close()\n",
        "\n",
        "    print(\"Wrote pydot SVG of graph to: {}\\nNodes: {}, Edges: {}\".format(svg_path, len(graph.nodes), len(graph.edges)))\n",
        "\n",
        "main()"
      ],
      "metadata": {
        "id": "ZsDGGqRR-ko1"
      },
      "execution_count": null,
      "outputs": []
    },
    {
      "cell_type": "markdown",
      "source": [
        "# Working with Graphs\n",
        "## Creating a Call Graph\n",
        "Ghidra's complex API allows for the creation of various graph structures including directional graphs (digraphs). This example shows how to create a DiGraph of vertices (functions) and edges (calls from/to).\n",
        "\n",
        "Note that adding a vertex or an edge between two vertex entries does not reuse or override them! This is because, while many nodes share the same name, they contain unique hash codes (keys). If you were looking to trim this graph to include only unqiue nodes, you would need to consider both the name of the symbol and its address to account for overridden functions.\n",
        "\n",
        "In its current form, this DiGraph is unlikely to be of any use to you. But the building blocks of creating interesting control flow graphs (CFG), program dependence graphs (PDG), data dependency graphs (DDG), and other graphs are all here."
      ],
      "metadata": {
        "id": "zqr9MDNj-mPc"
      }
    },
    {
      "cell_type": "code",
      "source": [
        "from ghidra.util.graph import DirectedGraph\n",
        "from ghidra.util.graph import Edge\n",
        "from ghidra.util.graph import Vertex\n",
        "\n",
        "def getAddress(offset):\n",
        "    return currentProgram.getAddressFactory().getDefaultAddressSpace().getAddress(offset)\n",
        "\n",
        "digraph = DirectedGraph()\n",
        "listing = currentProgram.getListing()\n",
        "fm = currentProgram.getFunctionManager()\n",
        "\n",
        "funcs = fm.getFunctions(True) # True mean iterate forward\n",
        "for func in funcs:\n",
        "\t# Add function vertices\n",
        "\tprint(\"Function: {} @ 0x{}\".format(func.getName(), func.getEntryPoint())) # FunctionDB\n",
        "\tdigraph.add(Vertex(func))\n",
        "\n",
        "\t# Add edges for static calls\n",
        "\tentryPoint = func.getEntryPoint()\n",
        "\tinstructions = listing.getInstructions(entryPoint, True)\n",
        "\tfor instruction in instructions:\n",
        "\t\taddr = instruction.getAddress()\n",
        "\t\toper = instruction.getMnemonicString()\n",
        "\t\tif oper == \"CALL\":\n",
        "\t\t\tprint(\"    0x{} : {}\".format(addr, instruction))\n",
        "\t\t\tflows = instruction.getFlows()\n",
        "\t\t\tif len(flows) == 1:\n",
        "\t\t\t\ttarget_addr = \"0x{}\".format(flows[0])\n",
        "\t\t\t\tdigraph.add(Edge(Vertex(func), Vertex(fm.getFunctionAt(getAddress(target_addr)))))\n",
        "\n",
        "print(\"DiGraph info:\")\n",
        "edges = digraph.edgeIterator()\n",
        "while edges.hasNext():\n",
        "\tedge = edges.next()\n",
        "\tfrom_vertex = edge.from()\n",
        "\tto_vertex = edge.to()\n",
        "\tprint(\"  Edge from {} to {}\".format(from_vertex, to_vertex))\n",
        "\n",
        "vertices = digraph.vertexIterator()\n",
        "while vertices.hasNext():\n",
        "\tvertex = vertices.next()\n",
        "\tprint(\"  Vertex: {} (key: {})\".format(vertex, vertex.key()))\n",
        "    # some extra stuff you might want to see\n",
        "\t#print(\"    type(vertex):      {}\".format(type(vertex)))\n",
        "\t#print(\"    vertex.hashCode(): {}\".format(vertex.hashCode()))\n",
        "\t#print(\"    vertex.referent(): {}\".format(vertex.referent()))\n",
        "\t#print(\"    type(referent):    {}\".format(type(vertex.referent())))"
      ],
      "metadata": {
        "id": "4q11kdFY-n7m"
      },
      "execution_count": null,
      "outputs": []
    },
    {
      "cell_type": "markdown",
      "source": [
        "# Miscellaneous\n",
        "## Program Slices\n",
        "Given a specific varnode, Ghidra is able to generate backward and forward program slices. This functionality is contained in the DecompilerUtils class as four functions; getBackwardSlice, getForwardSlice, getForwardSliceToPCodeOps, and getBackwardSliceToPCodeOps.\n",
        "\n",
        "You can read more about program slicing online, but the idea is to focus on a specific varnode (say a variable) and slice away anything unrelated to it so you're left with a slice of program related to the element you're interested in. In the Ghidra UI you can right-click a variable and select a program slice option and Ghidra will highlight the slice. If you right-click and don't see an option, you're not clicking on a compatable varnode / element, try something else."
      ],
      "metadata": {
        "id": "6QRdNkun-qay"
      }
    },
    {
      "cell_type": "code",
      "source": [
        "from ghidra.util.task import ConsoleTaskMonitor\n",
        "from ghidra.app.decompiler import DecompileOptions, DecompInterface\n",
        "from ghidra.app.decompiler.component import DecompilerUtils\n",
        "\n",
        "# == helper functions =============================================================================\n",
        "def get_high_function(func):\n",
        "    options = DecompileOptions()\n",
        "    monitor = ConsoleTaskMonitor()\n",
        "    ifc = DecompInterface()\n",
        "    ifc.setOptions(options)\n",
        "    ifc.openProgram(getCurrentProgram())\n",
        "    res = ifc.decompileFunction(func, 60, monitor)\n",
        "    high = res.getHighFunction()\n",
        "    return high\n",
        "\n",
        "# == run examples =================================================================================\n",
        "func = getGlobalFunctions(\"main\")[0]\n",
        "hf = get_high_function(func)\n",
        "lsm = hf.getLocalSymbolMap()\n",
        "symbols = lsm.getSymbols()\n",
        "\n",
        "for symbol in symbols:\n",
        "    print(\"\\nSymbol name: {}\".format(symbol.getName()))\n",
        "    hv = symbol.getHighVariable()\n",
        "    # Try this snippet with `hv.getInstances()` to enumerate slices for all instances!\n",
        "    varnode = hv.getRepresentative()\n",
        "    print(\"Varnode: {}\".format(varnode))\n",
        "    fs = DecompilerUtils.getForwardSlice(varnode)\n",
        "    print(\"Forward Slice: {}\".format(fs))\n",
        "    bs = DecompilerUtils.getBackwardSlice(varnode)\n",
        "    print(\"Backward Slice: {}\".format(bs))\n",
        "    bswo = DecompilerUtils.getBackwardSliceToPCodeOps(varnode)\n",
        "    print(\"Backward Slice w/ PCode Ops: {}\".format(bswo))\n",
        "    fswo = DecompilerUtils.getForwardSliceToPCodeOps(varnode)\n",
        "    print(\"Forward Slice w/ PCode Ops: {}\".format(fswo))"
      ],
      "metadata": {
        "id": "ShGt7Gs9-s1y"
      },
      "execution_count": null,
      "outputs": []
    }
  ]
}
